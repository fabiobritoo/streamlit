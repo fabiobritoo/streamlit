{
 "cells": [
  {
   "cell_type": "code",
   "execution_count": 29,
   "metadata": {},
   "outputs": [],
   "source": [
    "import streamlit as st\n",
    "import pandas as pd\n",
    "import numpy as np\n",
    "import pytz\n",
    "\n",
    "import psycopg2\n",
    "import plotly.express as px\n",
    "import datetime\n",
    "\n",
    "def init_connection():\n",
    "    return psycopg2.connect(**st.secrets[\"postgres\"])\n",
    "conn = init_connection()"
   ]
  },
  {
   "cell_type": "code",
   "execution_count": 30,
   "metadata": {},
   "outputs": [],
   "source": [
    "import warnings\n",
    "warnings.filterwarnings('ignore')"
   ]
  },
  {
   "cell_type": "code",
   "execution_count": 31,
   "metadata": {},
   "outputs": [
    {
     "data": {
      "text/html": [
       "<div>\n",
       "<style scoped>\n",
       "    .dataframe tbody tr th:only-of-type {\n",
       "        vertical-align: middle;\n",
       "    }\n",
       "\n",
       "    .dataframe tbody tr th {\n",
       "        vertical-align: top;\n",
       "    }\n",
       "\n",
       "    .dataframe thead th {\n",
       "        text-align: right;\n",
       "    }\n",
       "</style>\n",
       "<table border=\"1\" class=\"dataframe\">\n",
       "  <thead>\n",
       "    <tr style=\"text-align: right;\">\n",
       "      <th></th>\n",
       "      <th>id</th>\n",
       "      <th>tipo_senha</th>\n",
       "      <th>numeracao</th>\n",
       "      <th>codigo_senha</th>\n",
       "      <th>data_emissao</th>\n",
       "      <th>guiche</th>\n",
       "      <th>data_atendimento</th>\n",
       "    </tr>\n",
       "  </thead>\n",
       "  <tbody>\n",
       "    <tr>\n",
       "      <th>0</th>\n",
       "      <td>24</td>\n",
       "      <td>SP</td>\n",
       "      <td>7</td>\n",
       "      <td>SP007</td>\n",
       "      <td>2022-09-06 16:41:47.444</td>\n",
       "      <td>1.0</td>\n",
       "      <td>2022-09-06 17:07:19.874</td>\n",
       "    </tr>\n",
       "    <tr>\n",
       "      <th>1</th>\n",
       "      <td>25</td>\n",
       "      <td>SP</td>\n",
       "      <td>8</td>\n",
       "      <td>SP008</td>\n",
       "      <td>2022-09-06 11:43:22.651</td>\n",
       "      <td>1.0</td>\n",
       "      <td>2022-09-06 12:07:26.636</td>\n",
       "    </tr>\n",
       "  </tbody>\n",
       "</table>\n",
       "</div>"
      ],
      "text/plain": [
       "   id tipo_senha  numeracao codigo_senha            data_emissao  guiche  \\\n",
       "0  24         SP          7        SP007 2022-09-06 16:41:47.444     1.0   \n",
       "1  25         SP          8        SP008 2022-09-06 11:43:22.651     1.0   \n",
       "\n",
       "         data_atendimento  \n",
       "0 2022-09-06 17:07:19.874  \n",
       "1 2022-09-06 12:07:26.636  "
      ]
     },
     "execution_count": 31,
     "metadata": {},
     "output_type": "execute_result"
    }
   ],
   "source": [
    "def load_data():\n",
    "    df = pd.read_sql_query('select * from \"atendimentos\"',con=conn)\n",
    "    return df\n",
    "\n",
    "data = load_data()\n",
    "data.head(2)"
   ]
  },
  {
   "cell_type": "code",
   "execution_count": 32,
   "metadata": {},
   "outputs": [
    {
     "name": "stdout",
     "output_type": "stream",
     "text": [
      "<class 'pandas.core.frame.DataFrame'>\n",
      "RangeIndex: 40 entries, 0 to 39\n",
      "Data columns (total 6 columns):\n",
      " #   Column             Non-Null Count  Dtype          \n",
      "---  ------             --------------  -----          \n",
      " 0   tipo_senha         40 non-null     object         \n",
      " 1   numeracao          40 non-null     int64          \n",
      " 2   data_emissao       40 non-null     datetime64[ns] \n",
      " 3   data_atendimento   39 non-null     datetime64[ns] \n",
      " 4   guiche             40 non-null     string         \n",
      " 5   tempo_atendimento  39 non-null     timedelta64[ns]\n",
      "dtypes: datetime64[ns](2), int64(1), object(1), string(1), timedelta64[ns](1)\n",
      "memory usage: 2.0+ KB\n"
     ]
    }
   ],
   "source": [
    "data_show.info()"
   ]
  },
  {
   "cell_type": "code",
   "execution_count": null,
   "metadata": {},
   "outputs": [],
   "source": []
  },
  {
   "cell_type": "code",
   "execution_count": 33,
   "metadata": {},
   "outputs": [],
   "source": [
    "def timedelta_to_string(x):\n",
    "    if pd.isnull(x):\n",
    "        return '-'\n",
    "    total_sec = x.total_seconds()\n",
    "    hours = int(total_sec / 3600)\n",
    "    minutes = int(total_sec / 60) % 60\n",
    "    sec = int(total_sec - minutes*60 - hours*60*60)\n",
    "    time_string = str(hours).zfill(2) + \":\" + str(minutes).zfill(2) + \":\" + str(sec).zfill(2)\n",
    "    return time_string"
   ]
  },
  {
   "cell_type": "code",
   "execution_count": 34,
   "metadata": {},
   "outputs": [
    {
     "data": {
      "text/html": [
       "<div>\n",
       "<style scoped>\n",
       "    .dataframe tbody tr th:only-of-type {\n",
       "        vertical-align: middle;\n",
       "    }\n",
       "\n",
       "    .dataframe tbody tr th {\n",
       "        vertical-align: top;\n",
       "    }\n",
       "\n",
       "    .dataframe thead th {\n",
       "        text-align: right;\n",
       "    }\n",
       "</style>\n",
       "<table border=\"1\" class=\"dataframe\">\n",
       "  <thead>\n",
       "    <tr style=\"text-align: right;\">\n",
       "      <th></th>\n",
       "      <th>Tipo</th>\n",
       "      <th>Numeração</th>\n",
       "      <th>Data de Emissão</th>\n",
       "      <th>Data de Atendimento</th>\n",
       "      <th>Guichê</th>\n",
       "      <th>Tempo de Espera</th>\n",
       "    </tr>\n",
       "  </thead>\n",
       "  <tbody>\n",
       "    <tr>\n",
       "      <th>8</th>\n",
       "      <td>SE</td>\n",
       "      <td>1</td>\n",
       "      <td>2022-08-06, 07:08:12</td>\n",
       "      <td>2022-08-06, 08:08:16</td>\n",
       "      <td>5</td>\n",
       "      <td>00:12:04</td>\n",
       "    </tr>\n",
       "    <tr>\n",
       "      <th>2</th>\n",
       "      <td>SP</td>\n",
       "      <td>9</td>\n",
       "      <td>2022-09-06, 08:09:17</td>\n",
       "      <td>2022-09-06, 09:09:33</td>\n",
       "      <td>2</td>\n",
       "      <td>00:23:15</td>\n",
       "    </tr>\n",
       "    <tr>\n",
       "      <th>3</th>\n",
       "      <td>SE</td>\n",
       "      <td>4</td>\n",
       "      <td>2022-09-06, 09:09:19</td>\n",
       "      <td>2022-09-06, 10:09:36</td>\n",
       "      <td>2</td>\n",
       "      <td>00:12:17</td>\n",
       "    </tr>\n",
       "  </tbody>\n",
       "</table>\n",
       "</div>"
      ],
      "text/plain": [
       "  Tipo  Numeração       Data de Emissão   Data de Atendimento Guichê  \\\n",
       "8   SE          1  2022-08-06, 07:08:12  2022-08-06, 08:08:16      5   \n",
       "2   SP          9  2022-09-06, 08:09:17  2022-09-06, 09:09:33      2   \n",
       "3   SE          4  2022-09-06, 09:09:19  2022-09-06, 10:09:36      2   \n",
       "\n",
       "  Tempo de Espera  \n",
       "8        00:12:04  \n",
       "2        00:23:15  \n",
       "3        00:12:17  "
      ]
     },
     "execution_count": 34,
     "metadata": {},
     "output_type": "execute_result"
    }
   ],
   "source": [
    "data_show = data[[\"tipo_senha\",\"numeracao\",\"data_emissao\",\"data_atendimento\",\"guiche\"]]\n",
    "data_show = data_show.sort_values(by = \"data_emissao\")\n",
    "data_show[\"guiche\"] = data_show[\"guiche\"].astype('string').fillna('---').str[:-2]\n",
    "data_show[\"tempo_atendimento\"] = data_show[\"data_atendimento\"] - data_show[\"data_emissao\"]\n",
    "tempo_medio_por_tipo = data_show[['tipo_senha','tempo_atendimento']].groupby('tipo_senha').mean()\n",
    "data_show\n",
    "\n",
    "## Converter\n",
    "data_show[\"data_emissao\"] = data_show[\"data_emissao\"].dt.strftime('%Y-%m-%d, %H:%m:%S')\n",
    "data_show[\"data_atendimento\"] = data_show[\"data_atendimento\"].dt.strftime('%Y-%m-%d, %H:%m:%S')\n",
    "data_show[\"tempo_atendimento\"] = data_show[\"tempo_atendimento\"].apply(lambda x : timedelta_to_string(x))\n",
    "\n",
    "\n",
    "data_show.rename(columns = {\n",
    "    \"tipo_senha\":\"Tipo\"\n",
    "    ,\"numeracao\":\"Numeração\"\n",
    "    , \"data_emissao\":\"Data de Emissão\"\n",
    "    , \"data_atendimento\":\"Data de Atendimento\"\n",
    "    , \"guiche\":\"Guichê\"\n",
    "    , \"tempo_atendimento\":\"Tempo de Espera\"\n",
    "    }, inplace=True)\n",
    "\n",
    "data_show.head(3)\n"
   ]
  },
  {
   "cell_type": "code",
   "execution_count": 98,
   "metadata": {},
   "outputs": [],
   "source": [
    "tempo_medio_por_tipo\n",
    "tempo_medio_por_tipo[\"tempo_atendimento\"] = tempo_medio_por_tipo[\"tempo_atendimento\"].apply(lambda x : timedelta_to_string(x))\n",
    "tempo_medio_por_tipo = tempo_medio_por_tipo.reset_index()\n",
    "tempo_medio_por_tipo.rename(columns = {\n",
    "    \"tipo_senha\":\"Tipo\"\n",
    "    , \"tempo_atendimento\":\"Tempo Médio\"\n",
    "    }, inplace=True)\n"
   ]
  },
  {
   "cell_type": "code",
   "execution_count": 99,
   "metadata": {},
   "outputs": [
    {
     "data": {
      "text/html": [
       "<div>\n",
       "<style scoped>\n",
       "    .dataframe tbody tr th:only-of-type {\n",
       "        vertical-align: middle;\n",
       "    }\n",
       "\n",
       "    .dataframe tbody tr th {\n",
       "        vertical-align: top;\n",
       "    }\n",
       "\n",
       "    .dataframe thead th {\n",
       "        text-align: right;\n",
       "    }\n",
       "</style>\n",
       "<table border=\"1\" class=\"dataframe\">\n",
       "  <thead>\n",
       "    <tr style=\"text-align: right;\">\n",
       "      <th></th>\n",
       "      <th>Tipo</th>\n",
       "      <th>Tempo Médio</th>\n",
       "    </tr>\n",
       "  </thead>\n",
       "  <tbody>\n",
       "    <tr>\n",
       "      <th>0</th>\n",
       "      <td>SE</td>\n",
       "      <td>00:27:31</td>\n",
       "    </tr>\n",
       "    <tr>\n",
       "      <th>1</th>\n",
       "      <td>SG</td>\n",
       "      <td>00:16:12</td>\n",
       "    </tr>\n",
       "    <tr>\n",
       "      <th>2</th>\n",
       "      <td>SP</td>\n",
       "      <td>00:19:04</td>\n",
       "    </tr>\n",
       "  </tbody>\n",
       "</table>\n",
       "</div>"
      ],
      "text/plain": [
       "  Tipo Tempo Médio\n",
       "0   SE    00:27:31\n",
       "1   SG    00:16:12\n",
       "2   SP    00:19:04"
      ]
     },
     "execution_count": 99,
     "metadata": {},
     "output_type": "execute_result"
    }
   ],
   "source": [
    "tempo_medio_por_tipo"
   ]
  },
  {
   "cell_type": "code",
   "execution_count": 62,
   "metadata": {},
   "outputs": [
    {
     "data": {
      "text/plain": [
       "tipo_senha\n",
       "SE   0 days 00:27:31.550492222\n",
       "SG      0 days 00:16:12.624682\n",
       "SP   0 days 00:19:04.554344761\n",
       "Name: tempo_atendimento, dtype: timedelta64[ns]"
      ]
     },
     "execution_count": 62,
     "metadata": {},
     "output_type": "execute_result"
    }
   ],
   "source": [
    "tempo_medio_por_tipo[\"tempo_atendimento\"]"
   ]
  },
  {
   "cell_type": "code",
   "execution_count": 63,
   "metadata": {},
   "outputs": [
    {
     "data": {
      "text/plain": [
       "tipo_senha\n",
       "SE    00:27:31\n",
       "SG    00:16:12\n",
       "SP    00:19:04\n",
       "Name: tempo_atendimento, dtype: object"
      ]
     },
     "execution_count": 63,
     "metadata": {},
     "output_type": "execute_result"
    }
   ],
   "source": [
    "tempo_medio_por_tipo[\"tempo_atendimento\"].apply(lambda x : timedelta_to_string(x))"
   ]
  },
  {
   "cell_type": "code",
   "execution_count": 58,
   "metadata": {},
   "outputs": [
    {
     "data": {
      "text/plain": [
       "1532.43"
      ]
     },
     "execution_count": 58,
     "metadata": {},
     "output_type": "execute_result"
    }
   ],
   "source": [
    "teste.total_seconds()"
   ]
  },
  {
   "cell_type": "code",
   "execution_count": null,
   "metadata": {},
   "outputs": [],
   "source": [
    "from dateutil.relativedelta import relativedelta\n",
    "\n",
    "\n"
   ]
  },
  {
   "cell_type": "code",
   "execution_count": null,
   "metadata": {},
   "outputs": [],
   "source": []
  },
  {
   "cell_type": "code",
   "execution_count": null,
   "metadata": {},
   "outputs": [],
   "source": [
    "data.data_emissao[0].month"
   ]
  },
  {
   "cell_type": "code",
   "execution_count": null,
   "metadata": {},
   "outputs": [],
   "source": [
    "data['hora_emissao'] = data['data_emissao'].dt.hour\n",
    "data['hora_atendimento'] = data['data_atendimento'].dt.hour"
   ]
  },
  {
   "cell_type": "code",
   "execution_count": null,
   "metadata": {},
   "outputs": [],
   "source": [
    "data.rename(columns = {\"hora_emissao\":\"Hora Emissao\", \"id\":\"Count\"}).groupby(by=[\"Hora Emissao\"]).count()[[\"Count\"]].sort_values(by=\"Count\")"
   ]
  },
  {
   "cell_type": "code",
   "execution_count": null,
   "metadata": {},
   "outputs": [],
   "source": [
    "data.groupby(by=[\"tipo_senha\"]).count()[[\"id\"]].sort_values(by=\"id\")"
   ]
  },
  {
   "cell_type": "code",
   "execution_count": null,
   "metadata": {},
   "outputs": [],
   "source": [
    "data.groupby('tipo_senha').size()"
   ]
  },
  {
   "cell_type": "code",
   "execution_count": null,
   "metadata": {},
   "outputs": [],
   "source": [
    "tipos = data['tipo_senha'].unique()\n",
    "for tipo in tipos:\n",
    "    cond1 = ~data[\"data_atendimento\"].isna()\n",
    "    cond2 = data[\"tipo_senha\"] == tipo\n",
    "    senha_por_tipo = int(len(data[cond1 & cond2]))\n",
    "    print(f\"Senhas Atendidas {tipo}: {senha_por_tipo}\")"
   ]
  }
 ],
 "metadata": {
  "kernelspec": {
   "display_name": "Python 3.7.5 ('venv': venv)",
   "language": "python",
   "name": "python3"
  },
  "language_info": {
   "codemirror_mode": {
    "name": "ipython",
    "version": 3
   },
   "file_extension": ".py",
   "mimetype": "text/x-python",
   "name": "python",
   "nbconvert_exporter": "python",
   "pygments_lexer": "ipython3",
   "version": "3.7.5"
  },
  "orig_nbformat": 4,
  "vscode": {
   "interpreter": {
    "hash": "5163e3dad5f34753d4ba3ec255ea3b489c15801c35f6c6b715df0e600b17293a"
   }
  }
 },
 "nbformat": 4,
 "nbformat_minor": 2
}
