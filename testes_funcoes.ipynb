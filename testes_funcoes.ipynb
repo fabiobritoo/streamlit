{
 "cells": [
  {
   "cell_type": "code",
   "execution_count": 10,
   "metadata": {},
   "outputs": [],
   "source": [
    "import streamlit as st\n",
    "import pandas as pd\n",
    "import numpy as np\n",
    "\n",
    "import psycopg2\n",
    "import plotly.express as px\n",
    "\n",
    "def init_connection():\n",
    "    return psycopg2.connect(**st.secrets[\"postgres\"])\n",
    "conn = init_connection()"
   ]
  },
  {
   "cell_type": "code",
   "execution_count": 12,
   "metadata": {},
   "outputs": [
    {
     "data": {
      "text/html": [
       "<div>\n",
       "<style scoped>\n",
       "    .dataframe tbody tr th:only-of-type {\n",
       "        vertical-align: middle;\n",
       "    }\n",
       "\n",
       "    .dataframe tbody tr th {\n",
       "        vertical-align: top;\n",
       "    }\n",
       "\n",
       "    .dataframe thead th {\n",
       "        text-align: right;\n",
       "    }\n",
       "</style>\n",
       "<table border=\"1\" class=\"dataframe\">\n",
       "  <thead>\n",
       "    <tr style=\"text-align: right;\">\n",
       "      <th></th>\n",
       "      <th>id</th>\n",
       "      <th>tipo_senha</th>\n",
       "      <th>numeracao</th>\n",
       "      <th>codigo_senha</th>\n",
       "      <th>data_emissao</th>\n",
       "      <th>guiche</th>\n",
       "      <th>data_atendimento</th>\n",
       "    </tr>\n",
       "  </thead>\n",
       "  <tbody>\n",
       "    <tr>\n",
       "      <th>14</th>\n",
       "      <td>17</td>\n",
       "      <td>SP</td>\n",
       "      <td>1</td>\n",
       "      <td>SP001</td>\n",
       "      <td>2022-09-07 01:23:11.125120</td>\n",
       "      <td>2.0</td>\n",
       "      <td>2022-09-06 22:50:25.045881</td>\n",
       "    </tr>\n",
       "    <tr>\n",
       "      <th>15</th>\n",
       "      <td>18</td>\n",
       "      <td>SP</td>\n",
       "      <td>1</td>\n",
       "      <td>SP001</td>\n",
       "      <td>2022-09-07 01:23:13.167156</td>\n",
       "      <td>2.0</td>\n",
       "      <td>2022-09-06 22:50:28.798898</td>\n",
       "    </tr>\n",
       "    <tr>\n",
       "      <th>16</th>\n",
       "      <td>19</td>\n",
       "      <td>SP</td>\n",
       "      <td>2</td>\n",
       "      <td>SP002</td>\n",
       "      <td>2022-09-07 01:30:29.742103</td>\n",
       "      <td>2.0</td>\n",
       "      <td>2022-09-06 22:50:35.747990</td>\n",
       "    </tr>\n",
       "    <tr>\n",
       "      <th>17</th>\n",
       "      <td>20</td>\n",
       "      <td>SP</td>\n",
       "      <td>3</td>\n",
       "      <td>SP003</td>\n",
       "      <td>2022-09-07 01:30:31.450539</td>\n",
       "      <td>3.0</td>\n",
       "      <td>2022-09-06 22:51:02.753157</td>\n",
       "    </tr>\n",
       "    <tr>\n",
       "      <th>18</th>\n",
       "      <td>21</td>\n",
       "      <td>SP</td>\n",
       "      <td>4</td>\n",
       "      <td>SP004</td>\n",
       "      <td>2022-09-07 01:30:33.132797</td>\n",
       "      <td>1.0</td>\n",
       "      <td>2022-09-06 22:51:08.919118</td>\n",
       "    </tr>\n",
       "  </tbody>\n",
       "</table>\n",
       "</div>"
      ],
      "text/plain": [
       "    id tipo_senha  numeracao codigo_senha               data_emissao  guiche  \\\n",
       "14  17         SP          1        SP001 2022-09-07 01:23:11.125120     2.0   \n",
       "15  18         SP          1        SP001 2022-09-07 01:23:13.167156     2.0   \n",
       "16  19         SP          2        SP002 2022-09-07 01:30:29.742103     2.0   \n",
       "17  20         SP          3        SP003 2022-09-07 01:30:31.450539     3.0   \n",
       "18  21         SP          4        SP004 2022-09-07 01:30:33.132797     1.0   \n",
       "\n",
       "             data_atendimento  \n",
       "14 2022-09-06 22:50:25.045881  \n",
       "15 2022-09-06 22:50:28.798898  \n",
       "16 2022-09-06 22:50:35.747990  \n",
       "17 2022-09-06 22:51:02.753157  \n",
       "18 2022-09-06 22:51:08.919118  "
      ]
     },
     "execution_count": 12,
     "metadata": {},
     "output_type": "execute_result"
    }
   ],
   "source": [
    "def load_data(nrows):\n",
    "    df = pd.read_sql_query('select * from \"atendimentos\"',con=conn)\n",
    "    return df\n",
    "\n",
    "data = load_data(1000)\n",
    "data.tail()"
   ]
  },
  {
   "cell_type": "code",
   "execution_count": 26,
   "metadata": {},
   "outputs": [
    {
     "data": {
      "text/plain": [
       "0     22\n",
       "1     22\n",
       "2     22\n",
       "3     22\n",
       "4     22\n",
       "5     22\n",
       "6     22\n",
       "7     22\n",
       "8     22\n",
       "9      0\n",
       "10     1\n",
       "11    22\n",
       "12    22\n",
       "13     1\n",
       "14     1\n",
       "15     1\n",
       "16     1\n",
       "17     1\n",
       "18     1\n",
       "Name: data_emissao, dtype: int64"
      ]
     },
     "execution_count": 26,
     "metadata": {},
     "output_type": "execute_result"
    }
   ],
   "source": []
  },
  {
   "cell_type": "code",
   "execution_count": 27,
   "metadata": {},
   "outputs": [],
   "source": [
    "data['hora_emissao'] = data['data_emissao'].dt.hour\n",
    "data['hora_atendimento'] = data['data_atendimento'].dt.hour"
   ]
  },
  {
   "cell_type": "code",
   "execution_count": 29,
   "metadata": {},
   "outputs": [
    {
     "data": {
      "text/html": [
       "<div>\n",
       "<style scoped>\n",
       "    .dataframe tbody tr th:only-of-type {\n",
       "        vertical-align: middle;\n",
       "    }\n",
       "\n",
       "    .dataframe tbody tr th {\n",
       "        vertical-align: top;\n",
       "    }\n",
       "\n",
       "    .dataframe thead th {\n",
       "        text-align: right;\n",
       "    }\n",
       "</style>\n",
       "<table border=\"1\" class=\"dataframe\">\n",
       "  <thead>\n",
       "    <tr style=\"text-align: right;\">\n",
       "      <th></th>\n",
       "      <th>Count</th>\n",
       "    </tr>\n",
       "    <tr>\n",
       "      <th>Hora Emissao</th>\n",
       "      <th></th>\n",
       "    </tr>\n",
       "  </thead>\n",
       "  <tbody>\n",
       "    <tr>\n",
       "      <th>0</th>\n",
       "      <td>1</td>\n",
       "    </tr>\n",
       "    <tr>\n",
       "      <th>1</th>\n",
       "      <td>7</td>\n",
       "    </tr>\n",
       "    <tr>\n",
       "      <th>22</th>\n",
       "      <td>11</td>\n",
       "    </tr>\n",
       "  </tbody>\n",
       "</table>\n",
       "</div>"
      ],
      "text/plain": [
       "              Count\n",
       "Hora Emissao       \n",
       "0                 1\n",
       "1                 7\n",
       "22               11"
      ]
     },
     "execution_count": 29,
     "metadata": {},
     "output_type": "execute_result"
    }
   ],
   "source": [
    "data.rename(columns = {\"hora_emissao\":\"Hora Emissao\", \"id\":\"Count\"}).groupby(by=[\"Hora Emissao\"]).count()[[\"Count\"]].sort_values(by=\"Count\")"
   ]
  },
  {
   "cell_type": "code",
   "execution_count": 25,
   "metadata": {},
   "outputs": [
    {
     "data": {
      "text/html": [
       "<div>\n",
       "<style scoped>\n",
       "    .dataframe tbody tr th:only-of-type {\n",
       "        vertical-align: middle;\n",
       "    }\n",
       "\n",
       "    .dataframe tbody tr th {\n",
       "        vertical-align: top;\n",
       "    }\n",
       "\n",
       "    .dataframe thead th {\n",
       "        text-align: right;\n",
       "    }\n",
       "</style>\n",
       "<table border=\"1\" class=\"dataframe\">\n",
       "  <thead>\n",
       "    <tr style=\"text-align: right;\">\n",
       "      <th></th>\n",
       "      <th>id</th>\n",
       "    </tr>\n",
       "    <tr>\n",
       "      <th>tipo_senha</th>\n",
       "      <th></th>\n",
       "    </tr>\n",
       "  </thead>\n",
       "  <tbody>\n",
       "    <tr>\n",
       "      <th>SE</th>\n",
       "      <td>5</td>\n",
       "    </tr>\n",
       "    <tr>\n",
       "      <th>SP</th>\n",
       "      <td>14</td>\n",
       "    </tr>\n",
       "  </tbody>\n",
       "</table>\n",
       "</div>"
      ],
      "text/plain": [
       "            id\n",
       "tipo_senha    \n",
       "SE           5\n",
       "SP          14"
      ]
     },
     "execution_count": 25,
     "metadata": {},
     "output_type": "execute_result"
    }
   ],
   "source": [
    "data.groupby(by=[\"tipo_senha\"]).count()[[\"id\"]].sort_values(by=\"id\")"
   ]
  },
  {
   "cell_type": "code",
   "execution_count": 24,
   "metadata": {},
   "outputs": [
    {
     "data": {
      "text/plain": [
       "tipo_senha\n",
       "SE     5\n",
       "SP    14\n",
       "dtype: int64"
      ]
     },
     "execution_count": 24,
     "metadata": {},
     "output_type": "execute_result"
    }
   ],
   "source": [
    "data.groupby('tipo_senha').size()"
   ]
  },
  {
   "cell_type": "code",
   "execution_count": 13,
   "metadata": {},
   "outputs": [
    {
     "name": "stdout",
     "output_type": "stream",
     "text": [
      "Senhas Atendidas SE: 5\n",
      "Senhas Atendidas SP: 13\n"
     ]
    }
   ],
   "source": [
    "tipos = data['tipo_senha'].unique()\n",
    "for tipo in tipos:\n",
    "    cond1 = ~data[\"data_atendimento\"].isna()\n",
    "    cond2 = data[\"tipo_senha\"] == tipo\n",
    "    senha_por_tipo = int(len(data[cond1 & cond2]))\n",
    "    print(f\"Senhas Atendidas {tipo}: {senha_por_tipo}\")"
   ]
  }
 ],
 "metadata": {
  "kernelspec": {
   "display_name": "Python 3.7.5 ('venv': venv)",
   "language": "python",
   "name": "python3"
  },
  "language_info": {
   "codemirror_mode": {
    "name": "ipython",
    "version": 3
   },
   "file_extension": ".py",
   "mimetype": "text/x-python",
   "name": "python",
   "nbconvert_exporter": "python",
   "pygments_lexer": "ipython3",
   "version": "3.7.5"
  },
  "orig_nbformat": 4,
  "vscode": {
   "interpreter": {
    "hash": "5163e3dad5f34753d4ba3ec255ea3b489c15801c35f6c6b715df0e600b17293a"
   }
  }
 },
 "nbformat": 4,
 "nbformat_minor": 2
}
